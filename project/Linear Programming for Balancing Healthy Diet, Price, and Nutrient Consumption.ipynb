{
 "cells": [
  {
   "cell_type": "markdown",
   "metadata": {},
   "source": [
    "# Math Modeling - Final Project\n",
    "\n",
    "Computational Science 520\n",
    "\n",
    "Professor Allali\n",
    "\n",
    "Celeste Manughian-Peter\n"
   ]
  },
  {
   "cell_type": "markdown",
   "metadata": {},
   "source": [
    "## Background"
   ]
  },
  {
   "cell_type": "markdown",
   "metadata": {},
   "source": [
    "In recent years there has been a rising popularity in eating a \"plant-based\" diet (see figure below) [8], due to increased prevalance of chronic conditions stemming from lifelong adherance to the Standard American Diet (SAD). Maintaining a healthy diet regimine like the Medteranian, Paleo, Autoimmune Protocol, or other anti-inflammatory, produce-rich diet is important for maintaining overall health. Vegetable-rich diets are also known to prevent and reverse chronic diseases that stem from a multitude of factors, including eating a diet rich in processed foods like the SAD.\n",
    "\n",
    "One practical question that arises when people switch from the SAD full of cheap processed and pre-packaged foods to a healthier one filled with fresh foods is, how much (extra) is this going to cost me? \n",
    "Another practical question when switching to a non-SAD diet is, can I meet all of my reccommended dietary allowance for the necessary nutrients?\n",
    "\n",
    "This program aims to come up with a list of foods within a certain diet regimine that meet recommended daily allowance for nutrients and recommmended daily calories for gender, age, and activity, while minimizing cost.\n",
    "\n",
    "<img src=\"./plantbasedinterest.png\">"
   ]
  },
  {
   "cell_type": "markdown",
   "metadata": {},
   "source": [
    "Future work for this would include adding a constraint to not only meet RDA but maximize nutrient density, as well as programmatically (not manually) restrict food categories based on inputted diet. Incorporating seasonality of foods into the model and having an input for obtaining prices by user's region would be beneficial (and easily doable) as well. We could also extend this to add constraints for diet paletability or put extra amount limits on things like spices and herbs, since no one eats those in large amonunts on their own."
   ]
  },
  {
   "cell_type": "markdown",
   "metadata": {},
   "source": [
    "## Overview"
   ]
  },
  {
   "cell_type": "markdown",
   "metadata": {},
   "source": [
    "### Data \n",
    "Data required for this program\n",
    "\n",
    "* Nutrient profile for each food\n",
    "* Calorie information for each food\n",
    "* Price data for each food\n",
    "* Recommended daily allowance and calories for given person\n",
    "\n",
    "### Variables \n",
    "\n",
    "* Amount of each food product - this is what we solve for \n",
    "* Budget - this is a constraint\n",
    "* RDA, RDA for person - this is determined by an individual's parameters\n",
    "* Diet Model\n",
    " * For example run I choose Paleo diet\n",
    "\n",
    "### Optimization\n",
    "\n",
    "This program could've been written to optimize over what is most restrictive to a person = budget or nutrient density, or include constraints on allergens like gluten, citrus, and limits on certain levels like sugar amounts. Due to time constraints, I chose to focus on one diet, minimizing cost, maintaining recommended daily allowance (RDA) and recommended daily calorie (RDC) levels, under certain dietary restrictions."
   ]
  },
  {
   "cell_type": "markdown",
   "metadata": {},
   "source": [
    "## The Data\n",
    "\n",
    "### Data source investigation\n",
    "\n",
    "Data required for this program\n",
    "\n",
    "* Nutrient profile for each food\n",
    "* Calorie information for each food\n",
    "* Price data for each food\n",
    "* Recommended daily allowance and calories for given person\n",
    "\n",
    "### Nutrient profile and calorie data\n",
    "\n",
    "After searching far and wide, the most comprehensive data set that I could find came from the United States Department of Agriculture (USDA). FoodData central[1] is a food and nutrient data system that hosts several USDA food composition databases, including the Food and Nutrient Database for Dietary Studies (FNDDS), Standard Reference (SR) Legacy, and the USDA Branded Food Products Database. FoodData Central also includes expanded nutrient content information as well as links to diverse data sources that offer related agricultural, environmental, food, health, dietary supplement, and other information\n",
    "\n",
    "After exploring all of the databases there, I finally landed on something I could use for nutrient composition, called Composition of Foods Raw, Processed, Prepared USDA National Nutrient Database for Standard Reference, Release 28 [2]. This database provides a breakdown of many nutrients for many different types of foods, for a given amount, as well as the kCal for consuming that amount of that food. This takes care of my first two data sets required to solve this problem.\n",
    "\n",
    "\n",
    "### Price data\n",
    "\n",
    "For this program a price for each food item is needed for the objective of minimizing price. The Quarterly Food-at-Home Price Database (QFAHPD) [4] from the USDA provides food price data to support research on the economic determinants of food consumption, diet quality, and health outcomes. This price data outlines average price per 100g of food for different food categories in different geographical regions. To get a price for each food item listed in the nutrient composition database, I manually went through each food category and mapped the food categories listed in the nutrient database to those in the food price data set (more on this later).\n",
    "\n",
    "### Data for recommended daily allowance and calories\n",
    "\n",
    "The data for recommended daily allowance and calorie intake was found summarized on health.gov [5].  The Institute of Medicine provides dietary reference intakes in <i>The essential guide to nutrient requirements. Washington (DC): The National Academies Press; 2006.</i> This was copy and pasted out of each table on the Appendix 7 web page into a text file and manually reformatted as a table so it could be read in by <b>pandas</b>.\n",
    "\n"
   ]
  },
  {
   "cell_type": "markdown",
   "metadata": {},
   "source": [
    "### Data Processing and Exploration"
   ]
  },
  {
   "cell_type": "markdown",
   "metadata": {},
   "source": [
    "#### A closer look at the acquired data\n",
    "\n",
    "\n",
    "FoodData Central is an integrated data system contains five distinct sources of food and nutrient composition data, each with a unique purpose. Three of these data types are well-established and familiar to many users: the National Nutrient Database for Standard Reference, the Food and Nutrient Database for Dietary Studies, and the USDA Global Branded Food Products Database. The other two data sources—Foundation Foodsand Experimental Foods—represent “a bridge to the future” in food and nutrient composition. Foundation Foodsincludes nutrient values as well as extensive underlying metadata on commerciallyavailablefoods.\n",
    "\n",
    "ABBREV.csv is the main nutrient composition database used. However, after processing was done I had renamed it data.csv. The processing that was done to this was \n",
    "\n",
    "* Mapping food group code to the actual food group description, using ./data/FD_GROUP.txt. This is shown in another processing notebook. \n",
    "* The ABBREV data was originally downloaded as a Microsoft Access Database file, which I processed so I could read into pandas dataframe. For processing .accdb files, first replace ~^~ with ; then replace ~ with nothing Then we can ingest it as a csv with sep=\";\" into pandas df. \n",
    "* The number of units and unit name per item is also separated and cast to their appropriate respective data types. \n",
    "\n",
    "The calorie needs and RDA data tables needed to be heavily processed as well. They offered age ranges for each calorie amount, and RDA limits. This needed to be expanded to hold a calorie amount for each discrete age and activity level.\n",
    "\n",
    "Next, the food price data offers average price per 100g unit of food for different food categories. These food categories needed to be manually mapped to the food group descriptions in the nutrient composition database. \n",
    "\n",
    "The following section shows a subset of the  data preprocessing that was done. The rest can be found in \"FoodData Central Data Processing\" notebook if interested. "
   ]
  },
  {
   "cell_type": "code",
   "execution_count": 357,
   "metadata": {},
   "outputs": [],
   "source": [
    "# Imports\n",
    "import os\n",
    "import pandas as pd\n",
    "import numpy as np\n",
    "import matplotlib.pyplot as plt\n",
    "plt.style.use(\"seaborn\")\n",
    "import seaborn as sns\n",
    "import ortools\n",
    "from ortools.linear_solver import pywraplp"
   ]
  },
  {
   "cell_type": "code",
   "execution_count": 358,
   "metadata": {},
   "outputs": [],
   "source": [
    "# Unit conversion\n",
    "G_TO_MG = 1000\n",
    "MG_TO_G = .001"
   ]
  },
  {
   "cell_type": "markdown",
   "metadata": {},
   "source": [
    "Reading in the data for nutrient profiles (food_item_properties), RDC (calorie_needs), RDA (RDA), and price (qfahpd2*.csv)"
   ]
  },
  {
   "cell_type": "code",
   "execution_count": 359,
   "metadata": {},
   "outputs": [
    {
     "name": "stdout",
     "output_type": "stream",
     "text": [
      "Format of nutrient profile data:\n"
     ]
    },
    {
     "data": {
      "text/html": [
       "<div>\n",
       "<style scoped>\n",
       "    .dataframe tbody tr th:only-of-type {\n",
       "        vertical-align: middle;\n",
       "    }\n",
       "\n",
       "    .dataframe tbody tr th {\n",
       "        vertical-align: top;\n",
       "    }\n",
       "\n",
       "    .dataframe thead th {\n",
       "        text-align: right;\n",
       "    }\n",
       "</style>\n",
       "<table border=\"1\" class=\"dataframe\">\n",
       "  <thead>\n",
       "    <tr style=\"text-align: right;\">\n",
       "      <th></th>\n",
       "      <th>NDB No</th>\n",
       "      <th>Shrt Desc x</th>\n",
       "      <th>Water g</th>\n",
       "      <th>Energ Kcal</th>\n",
       "      <th>Protein g</th>\n",
       "      <th>Lipid Tot g</th>\n",
       "      <th>Ash g</th>\n",
       "      <th>Carbohydrt g</th>\n",
       "      <th>Fiber TD g</th>\n",
       "      <th>Sugar Tot g</th>\n",
       "      <th>...</th>\n",
       "      <th>FdGrp Cd</th>\n",
       "      <th>Long Desc</th>\n",
       "      <th>Shrt Desc y</th>\n",
       "      <th>FdGrp Desc</th>\n",
       "      <th>Seq</th>\n",
       "      <th>Amount</th>\n",
       "      <th>Unit</th>\n",
       "      <th>isDryFood</th>\n",
       "      <th>price</th>\n",
       "      <th>FdGrp Price</th>\n",
       "    </tr>\n",
       "  </thead>\n",
       "  <tbody>\n",
       "    <tr>\n",
       "      <th>0</th>\n",
       "      <td>1003</td>\n",
       "      <td>BUTTER OIL,ANHYDROUS</td>\n",
       "      <td>0.24</td>\n",
       "      <td>876</td>\n",
       "      <td>0.28</td>\n",
       "      <td>99.48</td>\n",
       "      <td>0.00</td>\n",
       "      <td>0.00</td>\n",
       "      <td>0.0</td>\n",
       "      <td>0.00</td>\n",
       "      <td>...</td>\n",
       "      <td>100</td>\n",
       "      <td>Butter oil, anhydrous</td>\n",
       "      <td>BUTTER OIL,ANHYDROUS</td>\n",
       "      <td>Dairy and Egg Products</td>\n",
       "      <td>1</td>\n",
       "      <td>1.0</td>\n",
       "      <td>tbsp</td>\n",
       "      <td>False</td>\n",
       "      <td>0.156509</td>\n",
       "      <td>0.439291</td>\n",
       "    </tr>\n",
       "    <tr>\n",
       "      <th>1</th>\n",
       "      <td>1004</td>\n",
       "      <td>CHEESE,BLUE</td>\n",
       "      <td>42.41</td>\n",
       "      <td>353</td>\n",
       "      <td>21.40</td>\n",
       "      <td>28.74</td>\n",
       "      <td>5.11</td>\n",
       "      <td>2.34</td>\n",
       "      <td>0.0</td>\n",
       "      <td>0.50</td>\n",
       "      <td>...</td>\n",
       "      <td>100</td>\n",
       "      <td>Cheese, blue</td>\n",
       "      <td>CHEESE,BLUE</td>\n",
       "      <td>Dairy and Egg Products</td>\n",
       "      <td>1</td>\n",
       "      <td>1.0</td>\n",
       "      <td>oz</td>\n",
       "      <td>False</td>\n",
       "      <td>1.286240</td>\n",
       "      <td>0.439291</td>\n",
       "    </tr>\n",
       "    <tr>\n",
       "      <th>2</th>\n",
       "      <td>1005</td>\n",
       "      <td>CHEESE,BRICK</td>\n",
       "      <td>41.11</td>\n",
       "      <td>371</td>\n",
       "      <td>23.24</td>\n",
       "      <td>29.68</td>\n",
       "      <td>3.18</td>\n",
       "      <td>2.79</td>\n",
       "      <td>0.0</td>\n",
       "      <td>0.51</td>\n",
       "      <td>...</td>\n",
       "      <td>100</td>\n",
       "      <td>Cheese, brick</td>\n",
       "      <td>CHEESE,BRICK</td>\n",
       "      <td>Dairy and Egg Products</td>\n",
       "      <td>1</td>\n",
       "      <td>1.0</td>\n",
       "      <td>cup, diced</td>\n",
       "      <td>False</td>\n",
       "      <td>0.078717</td>\n",
       "      <td>0.439291</td>\n",
       "    </tr>\n",
       "    <tr>\n",
       "      <th>3</th>\n",
       "      <td>1006</td>\n",
       "      <td>CHEESE,BRIE</td>\n",
       "      <td>48.42</td>\n",
       "      <td>334</td>\n",
       "      <td>20.75</td>\n",
       "      <td>27.68</td>\n",
       "      <td>2.70</td>\n",
       "      <td>0.45</td>\n",
       "      <td>0.0</td>\n",
       "      <td>0.45</td>\n",
       "      <td>...</td>\n",
       "      <td>100</td>\n",
       "      <td>Cheese, brie</td>\n",
       "      <td>CHEESE,BRIE</td>\n",
       "      <td>Dairy and Egg Products</td>\n",
       "      <td>1</td>\n",
       "      <td>1.0</td>\n",
       "      <td>oz</td>\n",
       "      <td>False</td>\n",
       "      <td>3.116838</td>\n",
       "      <td>0.439291</td>\n",
       "    </tr>\n",
       "    <tr>\n",
       "      <th>4</th>\n",
       "      <td>1007</td>\n",
       "      <td>CHEESE,CAMEMBERT</td>\n",
       "      <td>51.80</td>\n",
       "      <td>300</td>\n",
       "      <td>19.80</td>\n",
       "      <td>24.26</td>\n",
       "      <td>3.68</td>\n",
       "      <td>0.46</td>\n",
       "      <td>0.0</td>\n",
       "      <td>0.46</td>\n",
       "      <td>...</td>\n",
       "      <td>100</td>\n",
       "      <td>Cheese, camembert</td>\n",
       "      <td>CHEESE,CAMEMBERT</td>\n",
       "      <td>Dairy and Egg Products</td>\n",
       "      <td>1</td>\n",
       "      <td>1.0</td>\n",
       "      <td>oz</td>\n",
       "      <td>False</td>\n",
       "      <td>1.256646</td>\n",
       "      <td>0.439291</td>\n",
       "    </tr>\n",
       "  </tbody>\n",
       "</table>\n",
       "<p>5 rows × 63 columns</p>\n",
       "</div>"
      ],
      "text/plain": [
       "   NDB No           Shrt Desc x  Water g  Energ Kcal  Protein g  Lipid Tot g  \\\n",
       "0    1003  BUTTER OIL,ANHYDROUS     0.24         876       0.28        99.48   \n",
       "1    1004           CHEESE,BLUE    42.41         353      21.40        28.74   \n",
       "2    1005          CHEESE,BRICK    41.11         371      23.24        29.68   \n",
       "3    1006           CHEESE,BRIE    48.42         334      20.75        27.68   \n",
       "4    1007      CHEESE,CAMEMBERT    51.80         300      19.80        24.26   \n",
       "\n",
       "   Ash g  Carbohydrt g  Fiber TD g  Sugar Tot g  ...  FdGrp Cd  \\\n",
       "0   0.00          0.00         0.0         0.00  ...       100   \n",
       "1   5.11          2.34         0.0         0.50  ...       100   \n",
       "2   3.18          2.79         0.0         0.51  ...       100   \n",
       "3   2.70          0.45         0.0         0.45  ...       100   \n",
       "4   3.68          0.46         0.0         0.46  ...       100   \n",
       "\n",
       "               Long Desc           Shrt Desc y               FdGrp Desc  Seq  \\\n",
       "0  Butter oil, anhydrous  BUTTER OIL,ANHYDROUS   Dairy and Egg Products    1   \n",
       "1           Cheese, blue           CHEESE,BLUE   Dairy and Egg Products    1   \n",
       "2          Cheese, brick          CHEESE,BRICK   Dairy and Egg Products    1   \n",
       "3           Cheese, brie           CHEESE,BRIE   Dairy and Egg Products    1   \n",
       "4      Cheese, camembert      CHEESE,CAMEMBERT   Dairy and Egg Products    1   \n",
       "\n",
       "   Amount        Unit  isDryFood     price  FdGrp Price  \n",
       "0     1.0        tbsp      False  0.156509     0.439291  \n",
       "1     1.0          oz      False  1.286240     0.439291  \n",
       "2     1.0  cup, diced      False  0.078717     0.439291  \n",
       "3     1.0          oz      False  3.116838     0.439291  \n",
       "4     1.0          oz      False  1.256646     0.439291  \n",
       "\n",
       "[5 rows x 63 columns]"
      ]
     },
     "metadata": {},
     "output_type": "display_data"
    },
    {
     "name": "stdout",
     "output_type": "stream",
     "text": [
      "Initial format of calorie intake data:\n"
     ]
    },
    {
     "data": {
      "text/html": [
       "<div>\n",
       "<style scoped>\n",
       "    .dataframe tbody tr th:only-of-type {\n",
       "        vertical-align: middle;\n",
       "    }\n",
       "\n",
       "    .dataframe tbody tr th {\n",
       "        vertical-align: top;\n",
       "    }\n",
       "\n",
       "    .dataframe thead th {\n",
       "        text-align: right;\n",
       "    }\n",
       "</style>\n",
       "<table border=\"1\" class=\"dataframe\">\n",
       "  <thead>\n",
       "    <tr style=\"text-align: right;\">\n",
       "      <th></th>\n",
       "      <th>AGE</th>\n",
       "      <th>Sedentary</th>\n",
       "      <th>Moderately_active</th>\n",
       "      <th>Active</th>\n",
       "      <th>Gender</th>\n",
       "    </tr>\n",
       "  </thead>\n",
       "  <tbody>\n",
       "    <tr>\n",
       "      <th>0</th>\n",
       "      <td>2</td>\n",
       "      <td>1000</td>\n",
       "      <td>1000</td>\n",
       "      <td>1000</td>\n",
       "      <td>Female</td>\n",
       "    </tr>\n",
       "    <tr>\n",
       "      <th>1</th>\n",
       "      <td>3</td>\n",
       "      <td>1000</td>\n",
       "      <td>1000</td>\n",
       "      <td>1000</td>\n",
       "      <td>Female</td>\n",
       "    </tr>\n",
       "    <tr>\n",
       "      <th>2</th>\n",
       "      <td>4</td>\n",
       "      <td>1200</td>\n",
       "      <td>1200</td>\n",
       "      <td>1200</td>\n",
       "      <td>Female</td>\n",
       "    </tr>\n",
       "    <tr>\n",
       "      <th>3</th>\n",
       "      <td>5</td>\n",
       "      <td>1200</td>\n",
       "      <td>1200</td>\n",
       "      <td>1200</td>\n",
       "      <td>Female</td>\n",
       "    </tr>\n",
       "    <tr>\n",
       "      <th>4</th>\n",
       "      <td>6</td>\n",
       "      <td>1200</td>\n",
       "      <td>1200</td>\n",
       "      <td>1200</td>\n",
       "      <td>Female</td>\n",
       "    </tr>\n",
       "  </tbody>\n",
       "</table>\n",
       "</div>"
      ],
      "text/plain": [
       "   AGE  Sedentary  Moderately_active  Active  Gender\n",
       "0    2       1000               1000    1000  Female\n",
       "1    3       1000               1000    1000  Female\n",
       "2    4       1200               1200    1200  Female\n",
       "3    5       1200               1200    1200  Female\n",
       "4    6       1200               1200    1200  Female"
      ]
     },
     "metadata": {},
     "output_type": "display_data"
    },
    {
     "name": "stdout",
     "output_type": "stream",
     "text": [
      "Initial format of RDA data:\n"
     ]
    },
    {
     "data": {
      "text/html": [
       "<div>\n",
       "<style scoped>\n",
       "    .dataframe tbody tr th:only-of-type {\n",
       "        vertical-align: middle;\n",
       "    }\n",
       "\n",
       "    .dataframe tbody tr th {\n",
       "        vertical-align: top;\n",
       "    }\n",
       "\n",
       "    .dataframe thead th {\n",
       "        text-align: right;\n",
       "    }\n",
       "</style>\n",
       "<table border=\"1\" class=\"dataframe\">\n",
       "  <thead>\n",
       "    <tr style=\"text-align: right;\">\n",
       "      <th></th>\n",
       "      <th>index</th>\n",
       "      <th>1,000 kcal</th>\n",
       "      <th>Added sugars, % kcal</th>\n",
       "      <th>Age</th>\n",
       "      <th>Calcium, mg</th>\n",
       "      <th>Calorie level(s) assessed</th>\n",
       "      <th>Carbohydrate, % kcal</th>\n",
       "      <th>Carbohydrate, g</th>\n",
       "      <th>Choline, mg</th>\n",
       "      <th>Copper, mcg</th>\n",
       "      <th>...</th>\n",
       "      <th>Total fat, % kcal</th>\n",
       "      <th>Vitamin A, mcg RAE</th>\n",
       "      <th>Vitamin B12, mcg</th>\n",
       "      <th>Vitamin B6, mg</th>\n",
       "      <th>Vitamin C, mg</th>\n",
       "      <th>Vitamin D, IU</th>\n",
       "      <th>Vitamin E, mg AT</th>\n",
       "      <th>Vitamin K, mcg</th>\n",
       "      <th>Vitamins</th>\n",
       "      <th>Zinc, mg</th>\n",
       "    </tr>\n",
       "  </thead>\n",
       "  <tbody>\n",
       "    <tr>\n",
       "      <th>0</th>\n",
       "      <td>1</td>\n",
       "      <td>16.8</td>\n",
       "      <td>&lt;10%</td>\n",
       "      <td>1</td>\n",
       "      <td>700</td>\n",
       "      <td>NaN</td>\n",
       "      <td>45-65</td>\n",
       "      <td>130</td>\n",
       "      <td>200</td>\n",
       "      <td>340</td>\n",
       "      <td>...</td>\n",
       "      <td>30-40</td>\n",
       "      <td>300</td>\n",
       "      <td>0.9</td>\n",
       "      <td>0.5</td>\n",
       "      <td>15</td>\n",
       "      <td>600</td>\n",
       "      <td>6</td>\n",
       "      <td>30</td>\n",
       "      <td>NaN</td>\n",
       "      <td>3</td>\n",
       "    </tr>\n",
       "    <tr>\n",
       "      <th>1</th>\n",
       "      <td>1</td>\n",
       "      <td>16.8</td>\n",
       "      <td>&lt;10%</td>\n",
       "      <td>2</td>\n",
       "      <td>700</td>\n",
       "      <td>NaN</td>\n",
       "      <td>45-65</td>\n",
       "      <td>130</td>\n",
       "      <td>200</td>\n",
       "      <td>340</td>\n",
       "      <td>...</td>\n",
       "      <td>30-40</td>\n",
       "      <td>300</td>\n",
       "      <td>0.9</td>\n",
       "      <td>0.5</td>\n",
       "      <td>15</td>\n",
       "      <td>600</td>\n",
       "      <td>6</td>\n",
       "      <td>30</td>\n",
       "      <td>NaN</td>\n",
       "      <td>3</td>\n",
       "    </tr>\n",
       "    <tr>\n",
       "      <th>2</th>\n",
       "      <td>1</td>\n",
       "      <td>16.8</td>\n",
       "      <td>&lt;10%</td>\n",
       "      <td>3</td>\n",
       "      <td>700</td>\n",
       "      <td>NaN</td>\n",
       "      <td>45-65</td>\n",
       "      <td>130</td>\n",
       "      <td>200</td>\n",
       "      <td>340</td>\n",
       "      <td>...</td>\n",
       "      <td>30-40</td>\n",
       "      <td>300</td>\n",
       "      <td>0.9</td>\n",
       "      <td>0.5</td>\n",
       "      <td>15</td>\n",
       "      <td>600</td>\n",
       "      <td>6</td>\n",
       "      <td>30</td>\n",
       "      <td>NaN</td>\n",
       "      <td>3</td>\n",
       "    </tr>\n",
       "    <tr>\n",
       "      <th>3</th>\n",
       "      <td>2</td>\n",
       "      <td>19.6</td>\n",
       "      <td>&lt;10%</td>\n",
       "      <td>4</td>\n",
       "      <td>1,000</td>\n",
       "      <td>NaN</td>\n",
       "      <td>45-65</td>\n",
       "      <td>130</td>\n",
       "      <td>250</td>\n",
       "      <td>440</td>\n",
       "      <td>...</td>\n",
       "      <td>25-35</td>\n",
       "      <td>400</td>\n",
       "      <td>1.2</td>\n",
       "      <td>0.6</td>\n",
       "      <td>25</td>\n",
       "      <td>600</td>\n",
       "      <td>7</td>\n",
       "      <td>55</td>\n",
       "      <td>NaN</td>\n",
       "      <td>5</td>\n",
       "    </tr>\n",
       "    <tr>\n",
       "      <th>4</th>\n",
       "      <td>2</td>\n",
       "      <td>19.6</td>\n",
       "      <td>&lt;10%</td>\n",
       "      <td>5</td>\n",
       "      <td>1,000</td>\n",
       "      <td>NaN</td>\n",
       "      <td>45-65</td>\n",
       "      <td>130</td>\n",
       "      <td>250</td>\n",
       "      <td>440</td>\n",
       "      <td>...</td>\n",
       "      <td>25-35</td>\n",
       "      <td>400</td>\n",
       "      <td>1.2</td>\n",
       "      <td>0.6</td>\n",
       "      <td>25</td>\n",
       "      <td>600</td>\n",
       "      <td>7</td>\n",
       "      <td>55</td>\n",
       "      <td>NaN</td>\n",
       "      <td>5</td>\n",
       "    </tr>\n",
       "  </tbody>\n",
       "</table>\n",
       "<p>5 rows × 40 columns</p>\n",
       "</div>"
      ],
      "text/plain": [
       "   index  1,000 kcal  Added sugars, % kcal   Age Calcium, mg   \\\n",
       "0      1         16.8                 <10%     1         700    \n",
       "1      1         16.8                 <10%     2         700    \n",
       "2      1         16.8                 <10%     3         700    \n",
       "3      2         19.6                 <10%     4       1,000    \n",
       "4      2         19.6                 <10%     5       1,000    \n",
       "\n",
       "  Calorie level(s) assessed  Carbohydrate, % kcal   Carbohydrate, g   \\\n",
       "0                        NaN                45-65                130   \n",
       "1                        NaN                45-65                130   \n",
       "2                        NaN                45-65                130   \n",
       "3                        NaN                45-65                130   \n",
       "4                        NaN                45-65                130   \n",
       "\n",
       "   Choline, mg   Copper, mcg   ...  Total fat, % kcal   Vitamin A, mcg RAE   \\\n",
       "0           200           340  ...              30-40                   300   \n",
       "1           200           340  ...              30-40                   300   \n",
       "2           200           340  ...              30-40                   300   \n",
       "3           250           440  ...              25-35                   400   \n",
       "4           250           440  ...              25-35                   400   \n",
       "\n",
       "  Vitamin B12, mcg   Vitamin B6, mg   Vitamin C, mg   Vitamin D, IU   \\\n",
       "0               0.9              0.5              15             600   \n",
       "1               0.9              0.5              15             600   \n",
       "2               0.9              0.5              15             600   \n",
       "3               1.2              0.6              25             600   \n",
       "4               1.2              0.6              25             600   \n",
       "\n",
       "   Vitamin E, mg AT   Vitamin K, mcg   Vitamins  Zinc, mg   \n",
       "0                  6               30       NaN          3  \n",
       "1                  6               30       NaN          3  \n",
       "2                  6               30       NaN          3  \n",
       "3                  7               55       NaN          5  \n",
       "4                  7               55       NaN          5  \n",
       "\n",
       "[5 rows x 40 columns]"
      ]
     },
     "metadata": {},
     "output_type": "display_data"
    },
    {
     "name": "stdout",
     "output_type": "stream",
     "text": [
      "Initial format of price data:\n",
      "\n",
      "\n",
      "\n"
     ]
    }
   ],
   "source": [
    "# Nutrient, price, and RDA data \n",
    "food_item_properties = pd.read_csv(\"./data/data.csv\")\n",
    "calorie_needs = pd.read_csv(\"./data/calorie_needs.csv\")\n",
    "food_group_needs = pd.read_csv(\"./data/est_food_group_needs.csv\", sep='\\t')\n",
    "RDA = pd.read_csv(\"./data/RDA_fixed.csv\")\n",
    "\n",
    "print(\"Format of nutrient profile data:\")\n",
    "display(food_item_properties.head())\n",
    "print(\"Initial format of calorie intake data:\")\n",
    "display(calorie_needs.head())\n",
    "print(\"Initial format of RDA data:\")\n",
    "display(RDA.head())\n",
    "print(\"Initial format of price data:\") # TODO\n",
    "# display(prices.head())\n",
    "print(\"\\n\\n\")"
   ]
  },
  {
   "cell_type": "markdown",
   "metadata": {},
   "source": [
    "##### Visual Overview of Food Groups in the Composition of Foods Raw, Processed, Prepared USDA National Nutrient Database for Standard Reference, Release 28"
   ]
  },
  {
   "cell_type": "code",
   "execution_count": 392,
   "metadata": {},
   "outputs": [
    {
     "data": {
      "image/png": "[encoded data removed]",
      "text/plain": [
       "<Figure size 1224x648 with 1 Axes>"
      ]
     },
     "metadata": {},
     "output_type": "display_data"
    }
   ],
   "source": [
    "# Pie plot for higher level food groups in nutrient profile data\n",
    "plt.figure(figsize=(17,9))\n",
    "p = plt.pie(food_item_properties['FdGrp Desc'].value_counts(), \n",
    "        labels = food_item_properties['FdGrp Desc'].value_counts().index.values)\n",
    "t = plt.title(\"Food group breakdown in USDA nutrient composition database of foods mirrors that of Standard American Diet\")"
   ]
  },
  {
   "cell_type": "code",
   "execution_count": 361,
   "metadata": {},
   "outputs": [
    {
     "name": "stderr",
     "output_type": "stream",
     "text": [
      "/home/celeste/.local/lib/python3.6/site-packages/seaborn/categorical.py:3666: UserWarning: The `factorplot` function has been renamed to `catplot`. The original name will be removed in a future release. Please update your code. Note that the default `kind` in `factorplot` (`'point'`) has changed `'strip'` in `catplot`.\n",
      "  warnings.warn(msg)\n"
     ]
    },
    {
     "data": {
      "text/plain": [
       "<Figure size 1152x576 with 0 Axes>"
      ]
     },
     "metadata": {},
     "output_type": "display_data"
    },
    {
     "data": {
      "image/png": "[encoded data removed]",
      "text/plain": [
       "<Figure size 540x360 with 1 Axes>"
      ]
     },
     "metadata": {},
     "output_type": "display_data"
    }
   ],
   "source": [
    "p = plt.figure(figsize=(16,8))\n",
    "g = sns.factorplot(\"FdGrp Desc\", data=food_item_properties, aspect=1.5, kind=\"count\")\n",
    "t = g.set_xticklabels(rotation=90)\n",
    "p = plt.title(\"Histogram of Food Groups in Nutrient Composition Database\")"
   ]
  },
  {
   "cell_type": "markdown",
   "metadata": {},
   "source": [
    "\n",
    "\n",
    "#### Data Preprocessing and Helper Functions\n",
    "\n"
   ]
  },
  {
   "cell_type": "code",
   "execution_count": 362,
   "metadata": {},
   "outputs": [
    {
     "name": "stdout",
     "output_type": "stream",
     "text": [
      "['Calcium mg', 'Iron mg', 'Magnesium mg', 'Manganese mg', 'Niacin mg', 'Phosphorus mg', 'Potassium mg', 'Protein g', 'Riboflavin mg', 'Sodium mg', 'Thiamin mg', 'Zinc mg']\n"
     ]
    }
   ],
   "source": [
    "# RDA Data Preprocessing\n",
    "RDA.drop(columns=[RDA.columns[0], RDA.columns[5], RDA.columns[-2]], inplace=True)\n",
    "# Rename RDA columns to match food item property columns \n",
    "RDA.columns= [\" \".join(z.strip().replace(\",\", \"\").split()) for z in RDA.columns.values]\n",
    "# Lets look at the columns well analyze\n",
    "# print(RDA.columns)\n",
    "# print(food_item_properties.columns)\n",
    "# Lets just look at these for now, we can manually get the nutrients that dont match because of syntax a bit later\n",
    "nutrients_to_check = [z for z in RDA.columns.values if z in food_item_properties.columns.values ]\n",
    "#                       and\n",
    "#                      z != 'Riboflavin mg'  and z != 'Niacin mg' and z !='Manganese mg' and z != 'Thiamin mg']\n",
    "print(nutrients_to_check)\n",
    "nutrients_to_check.append('Age')\n",
    "nutrients_to_check.append('Gender')\n",
    "\n",
    "def get_RDA_RDC_for_person(age=26,gender='Female',activity='Sedentary', diet='paleo', calorie_needs=calorie_needs, RDAdf=RDA, nutrients_to_check=nutrients_to_check): \n",
    "    # TODO: 5 duplicates for age - for now just get first one \n",
    "    rda_for_person = RDA[(RDA.Age == age) & (RDA.Gender == gender)].iloc[0]\n",
    "    calorie_needs_for_person = calorie_needs[(calorie_needs.AGE == age) & (calorie_needs.Gender == gender)][['AGE', 'Gender', activity]]\n",
    "    return rda_for_person[nutrients_to_check], calorie_needs_for_person[activity].values[0]"
   ]
  },
  {
   "cell_type": "markdown",
   "metadata": {},
   "source": [
    "Preprocess the nutrient composition data and limit the foods to align with anti-inflammatory diet."
   ]
  },
  {
   "cell_type": "code",
   "execution_count": 363,
   "metadata": {},
   "outputs": [
    {
     "data": {
      "image/png": "[encoded data removed]",
      "text/plain": [
       "<Figure size 1080x576 with 1 Axes>"
      ]
     },
     "metadata": {},
     "output_type": "display_data"
    }
   ],
   "source": [
    "# Standard Cleanup\n",
    "# Remove whitespace\n",
    "food_item_properties['FdGrp Desc'] = food_item_properties['FdGrp Desc'].apply(lambda z : z.strip())\n",
    "# Replace NaNs with 0\n",
    "food_item_properties= food_item_properties[~food_item_properties['FdGrp Price'].isna()]\n",
    "food_item_properties = food_item_properties.fillna(0)\n",
    "\n",
    "# Nutrient Composition Data Preprocessing\n",
    "constraint_cats = ['Vegetables and Vegetable Products', \n",
    "                   'Fruits and Fruit Juices',\n",
    "                   'Fats and Oils',\n",
    "                   'Finfish and Shellfish Products',\n",
    "                   'Nut and Seed Products',\n",
    "                   'Dairy and Egg Products',\n",
    "                   'Legumes and Legume Products',\n",
    "                   'Cereal Grains and Pasta'\n",
    "                  ]\n",
    "\n",
    "# Lets drop the food groups that do not fit into our diet\n",
    "# Keep only the food groups listed above\n",
    "food_item_properties = food_item_properties[food_item_properties['FdGrp Desc'].isin(constraint_cats)]\n",
    "# Let's further refine by extracting specific foods like those relating to dairy\n",
    "# Take out dairy\n",
    "food_item_properties= food_item_properties[~((food_item_properties['FdGrp Desc'] == 'Dairy and Egg Products') & \n",
    "                      (food_item_properties['Shrt Desc x'].str.lower()\n",
    "                      .str.contains('cheese|inst|dairy|butter|hydr|acid|substitute|milk|velveeta|ice crm')))]\n",
    "# Take out sweetened fruit\n",
    "food_item_properties= food_item_properties[~((food_item_properties['FdGrp Desc'] == 'Fruits and Fruit Juices') & \n",
    "                      (food_item_properties['Shrt Desc x'].str.lower()\n",
    "                      .str.contains('swt|syrup|stwnd|w/ sugar|ocean spray|bolthouse|w/ sucralose|naked')))]\n",
    "\n",
    "\n",
    "\n",
    "# Let's see what the food group composition looks like now\n",
    "# Pie plot for higher level food groups in nutrient profile data given diet restrictions\n",
    "plt.figure(figsize=(15,8))\n",
    "p = plt.pie(food_item_properties['FdGrp Desc'].value_counts(), \n",
    "        labels = food_item_properties['FdGrp Desc'].value_counts().index.values)\n",
    "t = plt.title(\"Available food groups given anti-inflammtory diet requirement\")"
   ]
  },
  {
   "cell_type": "markdown",
   "metadata": {},
   "source": [
    "Price data processing involved mapping the Foodgroup Description form data to the price category to assign a price to each price data food group and looking through the Quarterly Food-at-Home Price Database documentation documentation [6] to find the units that the prices were corresponding to. They calculate the price per 100 grams (unit value) for each purchase of each food item [6]. For dry weights, they use a conversion of 28.35 grams per ounce, and a conversion factor of 29.57 grams per ounce for liquids. In some cases, however, only the number of items purchased (e.g., ears of corn) is reported. In these cases, they used the USDA National Nutrient Database for Standard Reference (Release 20) to convert the unit counts to weight, assuming the food was medium-sized (if there are multiple sizes in the database). Although it was possible to convert most unit counts to gram weights using this approach, not all purchases reported only as counts were convertible. Those food items that were not converted were excluded from the price calculations."
   ]
  },
  {
   "cell_type": "code",
   "execution_count": 364,
   "metadata": {},
   "outputs": [],
   "source": [
    "# Price data Preprocessing\n",
    "\n",
    "# Lets get the latest Los Angeles (15) prices for each category and manually average them for the\n",
    "# FdGrp_Desc categories \n",
    "qrs_fns = [qr for qr in os.listdir(\"./data\") if \"qfahpd2\" in qr and 'lock' not in qr]\n",
    "qrs = []\n",
    "price_df = pd.DataFrame(columns=['qr', 'year', 'price', 'marketgroup'])\n",
    "for i, qr in enumerate(qrs_fns):\n",
    "    print(qr)\n",
    "    xls = pd.ExcelFile(\"./data/\"+qr)\n",
    "    for sht in xls.sheet_names:\n",
    "        if sht.isnumeric():\n",
    "            print(sht)\n",
    "            xldf = pd.read_excel(\"./data/\"+qr, sheet_name=sht)\n",
    "            qrcat_sheets.append(xldf)\n",
    "            latest_year = np.unique(xldf.year)[-1]\n",
    "            marketgroup = 15\n",
    "            # Median price for this food group for specified marketgroup region\n",
    "            median_fdgrp_sht_price = xldf[(xldf.year == latest_year) & (xldf['marketgroup'] == marketgroup)].price.median()\n",
    "            price_df= price_df.append({'qr': qr, 'year': latest_year, 'sheet': sht,\n",
    "                                       'price': median_fdgrp_sht_price, 'marketgroup': 15},\n",
    "                                      ignore_index=True)\n",
    "\n",
    "\n",
    "# Map food groups from price data to food groups from nutrient composition data\n",
    "def get_price_for_fdgrp(fdgrp, price_df):\n",
    "    if fdgrp.strip() == 'Baby Foods':\n",
    "        return price_df[price_df.sheet == '1'].price.values[0]\n",
    "    elif fdgrp.strip() == 'Fruits and Fruit Juices':\n",
    "        return price_df[price_df.sheet.isin(['1','2','3'])].price.values.mean()\n",
    "    elif fdgrp.strip() == 'Vegetables and Vegetable Products':\n",
    "        return price_df[price_df.sheet.isin(['4','5','6','7','8','9','10'])].price.values.mean()\n",
    "    elif fdgrp.strip() == 'Vegetables and Vegetable Products':\n",
    "        return price_df[price_df.sheet.isin(['4','5','6','7','8','9','10', '11','12','13'])].price.values.mean()\n",
    "    elif fdgrp.strip() == 'Legumes and Legume Products':\n",
    "        return price_df[price_df.sheet.isin(['14','15'])].price.values.mean()\n",
    "    elif fdgrp.strip() == 'Breakfast Cereals':\n",
    "        return price_df[price_df.sheet.isin(['16', '18', '19', '21'])].price.values.mean()\n",
    "    elif fdgrp.strip() == 'Cereal Grains and Pasta':\n",
    "        return price_df[price_df.sheet.isin(['16', '19'])].price.values.mean()\n",
    "    elif fdgrp.strip() == 'Dairy and Egg Products':\n",
    "        return price_df[price_df.sheet.isin(['24','25','26','27', '37'])].price.values.mean()\n",
    "    elif fdgrp.strip() == 'Beef Products':\n",
    "        return price_df[price_df.sheet.isin(['28', '29', '30'])].price.values.mean()\n",
    "    elif fdgrp.strip() == 'Lamb, Veal, and Game Products':\n",
    "        return price_df[price_df.sheet.isin(['28', '29'])].price.values.mean()\n",
    "    elif fdgrp.strip() == 'Pork Products':\n",
    "        return price_df[price_df.sheet.isin(['28', '29'])].price.values.mean()\n",
    "    elif fdgrp.strip() == 'Nut and Seed Products':\n",
    "        return price_df[price_df.sheet.isin(['35', '36'])].price.values.mean()\n",
    "    elif fdgrp.strip() == 'Fats and Oils':\n",
    "        return price_df[price_df.sheet.isin(['38', '39'])].price.values.mean()\n",
    "    elif fdgrp.strip() == 'Beverages':\n",
    "        return price_df[price_df.sheet.isin(['41', '42', '43'])].price.values.mean()\n",
    "    elif fdgrp.strip() == 'Baked Products':\n",
    "        return price_df[price_df.sheet.isin(['46'])].price.values.mean()\n",
    "    elif fdgrp.strip() == 'Sweets':\n",
    "        return price_df[price_df.sheet.isin(['44','45','46'])].price.values.mean()\n",
    "    elif fdgrp.strip() == 'Soups, Sauces, and Gravies':\n",
    "        return price_df[price_df.sheet.isin(['49'])].price.values.mean()\n",
    "    elif fdgrp.strip() == 'Snacks':\n",
    "        return price_df[price_df.sheet.isin(['50'])].price.values.mean()\n",
    "    elif fdgrp.strip() == 'Sausages and Luncheon Meats':\n",
    "        return price_df[price_df.sheet.isin(['51', '52'])].price.values.mean()\n",
    "    elif fdgrp.strip() == 'Finfish and Shellfish Products':\n",
    "        return price_df[price_df.sheet.isin(['51', '52'])].price.values.mean()\n",
    "    else:\n",
    "        return 1\n",
    "    \n",
    "# This price data was written to data.csv so we don't have to rerun it on the original data\n",
    "# data['FdGrp_Price'] = data.FdGrp_Desc.apply(get_price_for_fdgrp, price_df=price_df)"
   ]
  },
  {
   "cell_type": "markdown",
   "metadata": {},
   "source": [
    "Additional optional preprocessing could be replacing acronyms in nutrient database. This can be done with the following data file."
   ]
  },
  {
   "cell_type": "code",
   "execution_count": 384,
   "metadata": {},
   "outputs": [],
   "source": [
    "# abv = pd.read_csv(\"./data/abbreviations.csv\")"
   ]
  },
  {
   "cell_type": "markdown",
   "metadata": {},
   "source": [
    "## The Linear Program"
   ]
  },
  {
   "cell_type": "markdown",
   "metadata": {},
   "source": [
    "### Variable Definitions"
   ]
  },
  {
   "cell_type": "code",
   "execution_count": 365,
   "metadata": {},
   "outputs": [],
   "source": [
    "age=26\n",
    "gender='Female'\n",
    "activity='Sedentary'\n",
    "diet='Paleo'"
   ]
  },
  {
   "cell_type": "code",
   "execution_count": 366,
   "metadata": {},
   "outputs": [],
   "source": [
    "# Let's get my RDA \n",
    "my_RDA, my_RDC = get_RDA_RDC_for_person(age=26, gender='Female', activity=\"Moderately_active\")"
   ]
  },
  {
   "cell_type": "code",
   "execution_count": 367,
   "metadata": {},
   "outputs": [],
   "source": [
    "food_item_properties_org = food_item_properties "
   ]
  },
  {
   "cell_type": "code",
   "execution_count": 379,
   "metadata": {},
   "outputs": [],
   "source": [
    "# Define LP solver\n",
    "# The primary OR-Tools linear optimization solver is Glop, Google's linear programming system\n",
    "# Name and type of solver\n",
    "solver = pywraplp.Solver(\"Minimum nutrients for food\",\n",
    "                         pywraplp.Solver.GLOP_LINEAR_PROGRAMMING)  \n",
    "\n",
    "# Define amounts of each food item as variables in our linear program\n",
    "food_item_properties = food_item_properties_org.sample(n=50, replace=True)\n",
    "units_fooditems = [solver.NumVar(0, .5, 'Number of 100g units of ' + fooditem[1]['Shrt Desc x']) for fooditem in food_item_properties.iterrows()]"
   ]
  },
  {
   "cell_type": "markdown",
   "metadata": {},
   "source": [
    "### Objective Function"
   ]
  },
  {
   "cell_type": "markdown",
   "metadata": {},
   "source": [
    "We are looking to find the proportions of each food item in our daily \"mixture\" to satisfy RDA, RDC, variety, and diet requirements. Our objective function will be to minimize overall cost.\n",
    "\n",
    "Here we will minimize the sum of price per 100g of food * units of 100g of for, for each food item in the nutrient profile database. Remember we had taken out a few categories of food items to restrict the diet."
   ]
  },
  {
   "cell_type": "code",
   "execution_count": 380,
   "metadata": {},
   "outputs": [],
   "source": [
    "solver.Minimize(sum([fooditem[1]['FdGrp Price']*units_fooditem for fooditem, units_fooditem in zip(food_item_properties.iterrows(), units_fooditems)]))"
   ]
  },
  {
   "cell_type": "markdown",
   "metadata": {},
   "source": [
    "### Constraints"
   ]
  },
  {
   "cell_type": "markdown",
   "metadata": {},
   "source": [
    "#### Diet \"Constraint\"\n",
    "This constraint is a general constraint, in that we will not include certain food groups for the diet pattern instead of seeting the amounts equal to zero."
   ]
  },
  {
   "cell_type": "markdown",
   "metadata": {},
   "source": [
    "#### RDA Constraint\n",
    "\n",
    "For this constraint we will limit the sum of each nutrient across foods to be +/- E% of the RDA value for that nutrient."
   ]
  },
  {
   "cell_type": "code",
   "execution_count": 381,
   "metadata": {},
   "outputs": [
    {
     "name": "stdout",
     "output_type": "stream",
     "text": [
      "Minimum Calcium mg: 1000\n",
      "Maximum Calcium mg: 1000\n",
      "Minimum Iron mg: 18\n",
      "Maximum Iron mg: 18\n",
      "Minimum Magnesium mg: 310\n",
      "Maximum Magnesium mg: 310\n",
      "Minimum Manganese mg: 1.8\n",
      "Maximum Manganese mg: 1.8\n",
      "Minimum Niacin mg: 14\n",
      "Maximum Niacin mg: 14\n",
      "Minimum Phosphorus mg: 700\n",
      "Maximum Phosphorus mg: 700\n",
      "Minimum Potassium mg: 4700\n",
      "Maximum Potassium mg: 4700\n",
      "Minimum Protein g: 46\n",
      "Maximum Protein g: 46\n",
      "Minimum Riboflavin mg: 1.1\n",
      "Maximum Riboflavin mg: 1.1\n",
      "Minimum Sodium mg: 2300\n",
      "Maximum Sodium mg: 2300\n",
      "Minimum Thiamin mg: 1.1\n",
      "Maximum Thiamin mg: 1.1\n",
      "Minimum Zinc mg: 8\n",
      "Maximum Zinc mg: 8\n"
     ]
    }
   ],
   "source": [
    "# The sum of nutrients should be within E percent of the RDA\n",
    "E = 0\n",
    "for nutrient in my_RDA.items():\n",
    "    if nutrient[0] != 'Gender' and nutrient[0] != 'Age':\n",
    "        if isinstance(nutrient[1], str):\n",
    "            rda_nut = int(nutrient[1].replace(\",\", \"\"))\n",
    "        else:\n",
    "            rda_nut = nutrient[1]\n",
    "        print(\"Minimum \" + nutrient[0] +\": \" + str(rda_nut-(rda_nut*E)))\n",
    "        print(\"Maximum \" + nutrient[0] +\": \" + str(rda_nut+(rda_nut*E)))\n",
    "        # Sum the nutrient across units of each food, should be +/- epsilon of RDA \n",
    "        # Check conversion between nutrients and u here TODO \n",
    "        # Nutrient per 100 grams * each unit of 100 grams for each food \n",
    "        # Kcal per 100 grams * each unit of 100 grams for each food < RDC \n",
    "#         solver.Add(sum([f[1][nutrient[0]]*(100/f[1]['GmWt 1'])*u for f,u in zip(food_item_properties.iterrows(), units_fooditems)]) <= rda_nut+(E*rda_nut))\n",
    "#         solver.Add(sum([f[1][nutrient[0]]*(100/f[1]['GmWt 1'])*u for f,u in zip(food_item_properties.iterrows(), units_fooditems)]) >= rda_nut-(E*rda_nut))\n",
    "        if 'mg' in nutrient[0]:\n",
    "            ### Greater than constraint\n",
    "            solver.Add(sum([f[1][nutrient[0]]*(100/f[1]['GmWt 1'])*MG_TO_G*u for f,u in zip(food_item_properties.iterrows(), units_fooditems)]) \n",
    "                       >= MG_TO_G*(rda_nut-(E*rda_nut)))\n",
    "            ### Less than constraint\n",
    "#             solver.Add(sum([f[1][nutrient[0]]*(100/f[1]['GmWt 1'])*MG_TO_G*u for f,u in zip(food_item_properties.iterrows(), units_fooditems)]) \n",
    "#                        <= MG_TO_G*(rda_nut-(E*rda_nut)))\n",
    "            #### Print \n",
    "#             for f,u in zip(food_item_properties.iterrows(), units_fooditems):\n",
    "#                 print(str(f[1][nutrient[0]]*(100/f[1]['GmWt 1'])*MG_TO_G) + \"g * (\" + u.name() + \") +\")\n",
    "#             print(\">= \" + str((rda_nut-(E*rda_nut))*.001) + \"g\")\n",
    "        else: # g\n",
    "            ### Greater than constraint\n",
    "            solver.Add(sum([f[1][nutrient[0]]*(100/f[1]['GmWt 1'])*u for f,u in zip(food_item_properties.iterrows(), units_fooditems)]) >= rda_nut-(E*rda_nut))\n",
    "            ### Less than constraint\n",
    "#             solver.Add(sum([f[1][nutrient[0]]*(100/f[1]['GmWt 1'])*u for f,u in zip(food_item_properties.iterrows(), units_fooditems)]) <= rda_nut-(E*rda_nut))\n",
    "            #### Print\n",
    "#             for f,u in zip(food_item_properties.iterrows(), units_fooditems):\n",
    "#                 print(str(f[1][nutrient[0]]*(100/f[1]['GmWt 1'])) + \"g * (\" + u.name() + \") +\")\n",
    "#             print(\">= \" + str((rda_nut-(E*rda_nut))) + \"g\")"
   ]
  },
  {
   "cell_type": "markdown",
   "metadata": {},
   "source": [
    "#### Recommended Daily Calorie Constraint\n",
    "\n",
    "For this constraint we will limit the sum of kcal across foods to be +/- E% of the recommended calorie value for that person. For some reason adding this constraint makes the linear program infeasible, so we'll exclude it for now. \n"
   ]
  },
  {
   "cell_type": "code",
   "execution_count": 354,
   "metadata": {},
   "outputs": [],
   "source": [
    "# E = 0.1\n",
    "# solver.Add(sum([f[1]['Energ Kcal']*(100/f[1]['GmWt 1'])*u for f,u in zip(food_item_properties.iterrows(), units_fooditems)]) >= my_RDC-(E*my_RDC))\n",
    "# solver.Add(sum([f[1]['Energ Kcal']*(100/f[1]['GmWt 1'])*u for f,u in zip(food_item_properties.iterrows(), units_fooditems)]) >= my_RDC+(E*my_RDC))"
   ]
  },
  {
   "cell_type": "markdown",
   "metadata": {},
   "source": [
    "#### Max Budget constraint"
   ]
  },
  {
   "cell_type": "markdown",
   "metadata": {},
   "source": [
    "For some reason adding this constraint makes the linear program infeasible, so we'll exclude it for now. The amount spent is usually not that high anyway."
   ]
  },
  {
   "cell_type": "code",
   "execution_count": null,
   "metadata": {},
   "outputs": [],
   "source": [
    "# Limit our budget\n",
    "# daily_max_budget = 40\n",
    "# solver.Add(sum([fooditem[1]['FdGrp Price']*units_fooditem \n",
    "#                 for fooditem, units_fooditem in zip(food_item_properties.iterrows(), units_fooditems)])\n",
    "#           >= daily_max_budget\n",
    "#           )"
   ]
  },
  {
   "cell_type": "markdown",
   "metadata": {},
   "source": [
    "#### Considering other constraints\n",
    "\n",
    "There are many further constraints we could implement to refine our program\n",
    "\n",
    "* Limiting items based on group or weight\n",
    " * The number of items of dairy/egg group, or limit the amount of calories from dairy/egg group\n",
    " * The total grams of items from each food group\n",
    " * The amount of spices/herbs to be small since people don't eat those in large amounts\n",
    "* Limiting items for variety \n",
    " * We don't allow more than say 1 cup of a certain food per day since either it's recommended to eat a variety of foods, or certain people get tired of that food\n",
    " \n",
    " \n",
    "Contraints can be limited by other dietary guidelines [2] that suggest\n",
    "\n",
    "* Variety of vegetables from all of the subgroups—dark green, red and orange, legumes (beans and peas), starchy, and other\n",
    "* Fruits, especially whole fruits\n",
    "* Grains, at least half of which are whole grains\n",
    "* Fat-free or low-fat dairy, including milk, yogurt, cheese, and/or fortified soy beverages\n",
    "* A variety of protein foods, including seafood, lean meats and poultry, eggs, legumes (beans and peas), and nuts, seeds, and soy products\n",
    "* Oils\n",
    "\n",
    "* Limit saturated fats and trans fats, added sugars, and sodium\n",
    "* Consume less than 10 percent of calories per day from added sugars\n",
    "* Consume less than 10 percent of calories per day from saturated fats\n",
    "* Consume less than 2,300 milligrams (mg) per day of sodium\n",
    "* If alcohol is consumed, it should be consumed in moderation—up to one drink per day for women and up to two drinks per day for men\n",
    "\n",
    "\n",
    "Manipulate the constraints based on two anti-inflammatory dietary protocols:\n",
    "* Paleo\n",
    "* Medditerainean \n",
    "* Specific allergen foods may be considered as a separate constraint"
   ]
  },
  {
   "cell_type": "markdown",
   "metadata": {},
   "source": [
    "## Results"
   ]
  },
  {
   "cell_type": "markdown",
   "metadata": {},
   "source": [
    "Solve the linear program and output the 100g units of each food to satisfy our constraints"
   ]
  },
  {
   "cell_type": "code",
   "execution_count": 382,
   "metadata": {},
   "outputs": [
    {
     "name": "stdout",
     "output_type": "stream",
     "text": [
      "0\n",
      "Number of variables = 50\n",
      "Number of constraints = 12\n",
      "Optimal objective value (total cost): 3.8217787746646033\n",
      "0.5 100g of \n",
      "Number of 100g units of VITASOY USA,VITASOY ORGANIC CREAMY ORIGINAL SOYMILK\n",
      "0.5 100g of \n",
      "Number of 100g units of MEATBALLS,MEATLESS\n",
      "0.5 100g of \n",
      "Number of 100g units of TOFU,FIRM,PREP W/CA SULFATE&MAGNESIUM CHLORIDE (NIGARI)\n",
      "0.5 100g of \n",
      "Number of 100g units of MUSTARD GREENS,RAW\n",
      "0.13452403406511274 100g of \n",
      "Number of 100g units of VEGETABLE OIL-BUTTER SPRD,RED CAL\n",
      "0.5 100g of \n",
      "Number of 100g units of ALMONDS,DRY RSTD,W/SALT\n",
      "0.5 100g of \n",
      "Number of 100g units of BEANS,KIDNEY,CALIFORNIA RED,MATURE SEEDS,CKD,BLD,W/SALT\n",
      "0.5 100g of \n",
      "Number of 100g units of ORANGE JUC,CHILLED,INCL FROM CONC,W/ ADDED CA & VITAMIN D\n",
      "0.3589909902767048 100g of \n",
      "Number of 100g units of HALIBUT,ATLANTIC&PACIFIC,RAW\n",
      "0.29827792737978714 100g of \n",
      "Number of 100g units of POTATOES,HASH BROWN,HOME-PREPARED\n",
      "0.5 100g of \n",
      "Number of 100g units of SOY PROT ISOLATE,K TYPE\n",
      "0.5 100g of \n",
      "Number of 100g units of SALSIFY,CKD,BLD,DRND,W/SALT\n",
      "0.5 100g of \n",
      "Number of 100g units of BEANS,CRANBERRY (ROMAN),MATURE SEEDS,CKD,BLD,W/SALT\n",
      "0.5 100g of \n",
      "Number of 100g units of ALMONDS,OIL RSTD,W/SALT\n",
      "0.5 100g of \n",
      "Number of 100g units of SOYMILK (ALL FLAVORS),ENHANCED\n",
      "0.5 100g of \n",
      "Number of 100g units of SILK LT VANILLA,SOYMILK\n",
      "0.32937202317664027 100g of \n",
      "Number of 100g units of YOGURT,GREEK,PLN,LOWFAT\n",
      "0.5 100g of \n",
      "Number of 100g units of WHELK,UNSPEC,CKD,MOIST HEAT\n",
      "0.5 100g of \n",
      "Number of 100g units of OCEAN PERCH,ATLANTIC,RAW\n"
     ]
    }
   ],
   "source": [
    "status = solver.Solve()\n",
    "print(status)\n",
    "\n",
    "opt_soln = solver.Objective().Value()\n",
    "print('Number of variables =', solver.NumVariables())\n",
    "print('Number of constraints =', solver.NumConstraints())\n",
    "print('Optimal objective value (total cost):', opt_soln)\n",
    "\n",
    "for u in units_fooditems:\n",
    "    if u.solution_value() != 0:\n",
    "        print(str(u.solution_value()) + \" 100g of \")\n",
    "        print(u)\n",
    "#         print(\"Nutrient values of item:\")\n",
    "#         print([(nutrient[0] , food_item_properties[food_item_properties['Shrt Desc x'] == 'EGG MIX,USDA CMDTY'][nutrient[0]]) \n",
    "#                for nutrient in my_RDA.items() if nutrient[0] != 'Age' and nutrient[0] != 'Gender'])\n",
    "#         print(\"\\n\")\n",
    "#         print(food_item_properties[food_item_properties['Shrt Desc x']\n",
    "#                                                   == 'EGG MIX,USDA CMDTY']['GmWt 1']*u.solution_value()/100)\n",
    "# print(my_RDA) "
   ]
  },
  {
   "cell_type": "markdown",
   "metadata": {},
   "source": [
    "### Visualizing results\n",
    "#### Nurtient Composition per Food Group of Selected Daily Food Items"
   ]
  },
  {
   "cell_type": "code",
   "execution_count": 383,
   "metadata": {},
   "outputs": [
    {
     "data": {
      "image/png": "[encoded data removed]",
      "text/plain": [
       "<Figure size 1080x576 with 1 Axes>"
      ]
     },
     "metadata": {},
     "output_type": "display_data"
    }
   ],
   "source": [
    "plotcols = [n for n in nutrients_to_check if n!='Age' and n!= 'Gender']\n",
    "plotcols += ['FdGrp Desc']\n",
    "p = items[plotcols].groupby('FdGrp Desc').sum().plot.bar(stacked=True, figsize=(15,8))\n",
    "t = plt.title(\"Nutrient breakdown of recommended daily foods per food group\")"
   ]
  },
  {
   "cell_type": "code",
   "execution_count": 377,
   "metadata": {},
   "outputs": [],
   "source": [
    "# Nutrients per selected item\n",
    "# p = items[plotcols].groupby('FdGrp Desc').plot.bar(stacked=True, figsize=(10,7))"
   ]
  },
  {
   "cell_type": "code",
   "execution_count": null,
   "metadata": {},
   "outputs": [],
   "source": [
    "# items[plotcols]\n",
    "# g = sns.FacetGrid(items[plotcols], row=\"Shrt Desc x\", col=plotcols, margin_titles=True)\n",
    "# g.map(plt.hist, \"total_bill\", color=\"steelblue\")\n"
   ]
  },
  {
   "cell_type": "markdown",
   "metadata": {},
   "source": [
    "## References"
   ]
  },
  {
   "cell_type": "markdown",
   "metadata": {},
   "source": [
    "### Data sources\n",
    "\n",
    "#### Dietary guidelines\n",
    "\n",
    "https://health.gov/dietaryguidelines/2015/guidelines/chapter-1/key-recommendations/\n",
    "\n",
    "A Closer Look Inside Healthy Eating Patterns\n",
    "\n",
    "https://health.gov/dietaryguidelines/2015/guidelines/chapter-1/a-closer-look-inside-healthy-eating-patterns/\n",
    "\n",
    "\n",
    "#### Food composition database \n",
    "\n",
    "[1] https://data.nal.usda.gov/dataset/fooddata-central\n",
    "\n",
    "https://fdc.nal.usda.gov/data-documentation.html\n",
    "\n",
    "ABBREV:\n",
    " [2] https://data.nal.usda.gov/dataset/composition-foods-raw-processed-prepared-usda-national-nutrient-database-standard-reference-release-28-0\n",
    "\n",
    "FROM:\n",
    "https://data.nal.usda.gov/dataset/fooddata-central\n",
    "\n",
    "DOC:\n",
    "[3] https://data.nal.usda.gov/system/files/sr28_doc.pdf\n",
    "\n",
    "#### Food price data\n",
    "\n",
    "QFHPD Database\n",
    "\n",
    "[4] https://www.ers.usda.gov/data-products/quarterly-food-at-home-price-database/\n",
    "\n",
    "Price units and conversion for listed data\n",
    "\n",
    "[6] https://www.ers.usda.gov/publications/pub-details/?pubid=47567\n",
    "[6] https://www.ers.usda.gov/webdocs/publications/47564/8516_tb1926_1_.pdf?v=0\n",
    "\n",
    "\n",
    "#### RDA Data\n",
    "\n",
    "Nutrient intake\n",
    "\n",
    "[5] https://health.gov/dietaryguidelines/2015/guidelines/appendix-7/\n",
    " Institute of Medicine. Dietary Reference Intakes: The essential guide to nutrient requirements. Washington (DC): The National Academies Press; 2006.\n",
    " \n",
    " \n",
    "Other ingredient nutrient values and documentation\n",
    "\n",
    "https://www.ars.usda.gov/northeast-area/beltsville-md-bhnrc/beltsville-human-nutrition-research-center/food-surveys-research-group/docs/fndds-download-databases/\n",
    "\n",
    "https://www.ars.usda.gov/ARSUserFiles/80400530/pdf/fndds/2013_2014_FNDDS_Glance.pdf\n",
    "\n",
    "\n",
    "#### Other data\n",
    "\n",
    "Google Trends Interest Over Time\n",
    "\n",
    "https://trends.google.com/trends/explore?date=all&geo=US&q=plant-based\n",
    "\n",
    "\n",
    "### Math and Programming Resources\n",
    "\n",
    "Linear programming help\n",
    "\n",
    "https://www.me.utexas.edu/~jensen/ORMM/models/unit/linear/subunits/blending/index.html\n",
    "\n",
    "https://developers.google.com/optimization/cp/cp_solver\n"
   ]
  }
 ],
 "metadata": {
  "kernelspec": {
   "display_name": "Python 3",
   "language": "python",
   "name": "python3"
  },
  "language_info": {
   "codemirror_mode": {
    "name": "ipython",
    "version": 3
   },
   "file_extension": ".py",
   "mimetype": "text/x-python",
   "name": "python",
   "nbconvert_exporter": "python",
   "pygments_lexer": "ipython3",
   "version": "3.6.8"
  }
 },
 "nbformat": 4,
 "nbformat_minor": 2
}
